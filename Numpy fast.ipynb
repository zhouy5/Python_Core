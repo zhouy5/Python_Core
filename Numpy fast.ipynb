{
 "cells": [
  {
   "cell_type": "code",
   "execution_count": 1,
   "metadata": {},
   "outputs": [],
   "source": [
    "import numpy as np"
   ]
  },
  {
   "cell_type": "code",
   "execution_count": 4,
   "metadata": {},
   "outputs": [],
   "source": [
    "persontype = np.dtype({'names':['name', 'age', 'chinese', 'math', 'english'],\n",
    "                      'formats':['S32', 'i', 'f', 'f', 'f']})\n",
    "peoples = np.array([(\"ZhangFei\", 32, 75, 100, 90), (\"GuanYu\", 24, 85, 96, 88.5),\n",
    "                   (\"ZhaoYun\", 28, 85, 92, 96.5), (\"HuangZhong\", 29, 65, 85, 100)],\n",
    "                  dtype = persontype)"
   ]
  },
  {
   "cell_type": "code",
   "execution_count": 8,
   "metadata": {},
   "outputs": [
    {
     "data": {
      "text/plain": [
       "array([32, 24, 28, 29], dtype=int32)"
      ]
     },
     "execution_count": 8,
     "metadata": {},
     "output_type": "execute_result"
    }
   ],
   "source": [
    "ages = peoples[:]['age']\n",
    "ages"
   ]
  },
  {
   "cell_type": "code",
   "execution_count": 9,
   "metadata": {},
   "outputs": [
    {
     "name": "stdout",
     "output_type": "stream",
     "text": [
      "28.25\n"
     ]
    }
   ],
   "source": [
    "print(np.mean(ages))"
   ]
  },
  {
   "cell_type": "code",
   "execution_count": 14,
   "metadata": {},
   "outputs": [
    {
     "data": {
      "text/plain": [
       "(array([1, 3, 5, 7, 9]), array([1., 3., 5., 7., 9.]))"
      ]
     },
     "execution_count": 14,
     "metadata": {},
     "output_type": "execute_result"
    }
   ],
   "source": [
    "x1 = np.arange(1,11,2)\n",
    "x2 = np.linspace(1,9,5)\n",
    "x1,x2"
   ]
  },
  {
   "cell_type": "code",
   "execution_count": 15,
   "metadata": {},
   "outputs": [
    {
     "name": "stdout",
     "output_type": "stream",
     "text": [
      "[1.00000000e+00 2.70000000e+01 3.12500000e+03 8.23543000e+05\n",
      " 3.87420489e+08]\n"
     ]
    }
   ],
   "source": [
    "print(np.power(x1,x2))"
   ]
  },
  {
   "cell_type": "code",
   "execution_count": 21,
   "metadata": {},
   "outputs": [
    {
     "data": {
      "text/plain": [
       "(1, 9, array([1, 2, 3]), array([1, 4, 7]))"
      ]
     },
     "execution_count": 21,
     "metadata": {},
     "output_type": "execute_result"
    }
   ],
   "source": [
    "a = np.array([[1, 2, 3], [4, 5, 6], [7, 8, 9]])\n",
    "np.amin(a), np.amax(a), np.amin(a,0), np.amin(a,1) #0 axis is vertical, 1 axis is horizontal"
   ]
  },
  {
   "cell_type": "code",
   "execution_count": 23,
   "metadata": {},
   "outputs": [
    {
     "name": "stdout",
     "output_type": "stream",
     "text": [
      "[6 6 6]\n"
     ]
    }
   ],
   "source": [
    "#Difference between biggest value and smallest value\n",
    "print(np.ptp(a,0))"
   ]
  },
  {
   "cell_type": "code",
   "execution_count": 28,
   "metadata": {},
   "outputs": [
    {
     "data": {
      "text/plain": [
       "5.0"
      ]
     },
     "execution_count": 28,
     "metadata": {},
     "output_type": "execute_result"
    }
   ],
   "source": [
    "#percentile\n",
    "np.percentile(a,50)"
   ]
  },
  {
   "cell_type": "code",
   "execution_count": 30,
   "metadata": {},
   "outputs": [
    {
     "data": {
      "text/plain": [
       "(5.0, 5.0)"
      ]
     },
     "execution_count": 30,
     "metadata": {},
     "output_type": "execute_result"
    }
   ],
   "source": [
    "#Median & Mean\n",
    "np.mean(a), np.median(a)"
   ]
  },
  {
   "cell_type": "code",
   "execution_count": 32,
   "metadata": {},
   "outputs": [
    {
     "data": {
      "text/plain": [
       "3.0"
      ]
     },
     "execution_count": 32,
     "metadata": {},
     "output_type": "execute_result"
    }
   ],
   "source": [
    "#weight average\n",
    "a = np.array([1,2,3,4])\n",
    "wts = np.array([1,2,3,4])\n",
    "np.average(a,weights = wts)"
   ]
  },
  {
   "cell_type": "code",
   "execution_count": 33,
   "metadata": {},
   "outputs": [
    {
     "data": {
      "text/plain": [
       "(1.118033988749895, 1.25)"
      ]
     },
     "execution_count": 33,
     "metadata": {},
     "output_type": "execute_result"
    }
   ],
   "source": [
    "#variance and standard deviation\n",
    "np.std(a),np.var(a)"
   ]
  },
  {
   "cell_type": "code",
   "execution_count": 65,
   "metadata": {},
   "outputs": [
    {
     "data": {
      "text/plain": [
       "array([4, 3, 2])"
      ]
     },
     "execution_count": 65,
     "metadata": {},
     "output_type": "execute_result"
    }
   ],
   "source": [
    "#sort array\n",
    "a = np.array([[4, 3, 2], [2, 4, 1]])\n",
    "a[0]"
   ]
  },
  {
   "cell_type": "code",
   "execution_count": 102,
   "metadata": {},
   "outputs": [
    {
     "name": "stdout",
     "output_type": "stream",
     "text": [
      "Chinese: Average =  84.8 , Min =  66 , Max =  95 , Var =  114.96000000000001 , Std =  10.721940122944169\n"
     ]
    },
    {
     "data": {
      "text/plain": [
       "array([(b'ZhangFei', 161), (b'HuangZong', 255), (b'Dianwei', 260),\n",
       "       (b'GuanYu', 278), (b'ZhaoYun', 281)],\n",
       "      dtype=[('Name', 'S32'), ('Total', '<i4')])"
      ]
     },
     "execution_count": 102,
     "metadata": {},
     "output_type": "execute_result"
    }
   ],
   "source": [
    "#EXERCISE\n",
    "datatype = np.dtype({'names':['Name', 'Chinese', 'English', 'Math'],\n",
    "                    'formats':['S32', 'i', 'i', 'i']})\n",
    "persons = np.array([('ZhangFei', 66, 65, 30), ('GuanYu', 95, 85, 98), ('ZhaoYun', 93, 92, 96), ('HuangZong', 90, 88, 77), ('Dianwei', 80, 90, 90)],\n",
    "                  dtype = datatype)\n",
    "#Chinese\n",
    "print(\"Chinese:\", \"Average = \", np.average(persons[:]['Chinese']), \", Min = \", np.amin(persons[:]['Chinese']),\n",
    "     \", Max = \", np.amax(persons[:]['Chinese']), \", Var = \", np.var(persons[:]['Chinese']), \", Std = \", np.std(persons[:]['Chinese']))\n",
    "persons\n",
    "def Sumscore(n):\n",
    "    name = persons[n][0]\n",
    "    Score = persons[n][1] + persons[n][2] + persons[n][3]\n",
    "    return name, Score\n",
    "datatype = np.dtype({'names':['Name', 'Total'],\n",
    "                    'formats':['S32', 'i']})\n",
    "persons_total = np.array([Sumscore(0), Sumscore(1), Sumscore(2), Sumscore(3), Sumscore(4)],\n",
    "                  dtype = datatype)\n",
    "np.sort(persons_total,order='Total')"
   ]
  }
 ],
 "metadata": {
  "kernelspec": {
   "display_name": "Python 3",
   "language": "python",
   "name": "python3"
  },
  "language_info": {
   "codemirror_mode": {
    "name": "ipython",
    "version": 3
   },
   "file_extension": ".py",
   "mimetype": "text/x-python",
   "name": "python",
   "nbconvert_exporter": "python",
   "pygments_lexer": "ipython3",
   "version": "3.7.3"
  }
 },
 "nbformat": 4,
 "nbformat_minor": 4
}
